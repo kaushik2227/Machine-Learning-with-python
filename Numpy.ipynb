{
 "cells": [
  {
   "cell_type": "markdown",
   "id": "dbed5542",
   "metadata": {},
   "source": [
    "## Numpy "
   ]
  },
  {
   "cell_type": "code",
   "execution_count": 63,
   "id": "1c3e3d52",
   "metadata": {},
   "outputs": [],
   "source": [
    "import numpy as np"
   ]
  },
  {
   "cell_type": "markdown",
   "id": "2293d4f8",
   "metadata": {},
   "source": [
    "### 1 Dimensional arrays:"
   ]
  },
  {
   "cell_type": "markdown",
   "id": "267bb758",
   "metadata": {},
   "source": [
    "#### Initialisation of arrays:"
   ]
  },
  {
   "cell_type": "code",
   "execution_count": 64,
   "id": "862cdfbe",
   "metadata": {},
   "outputs": [],
   "source": [
    "s_list = [1,2,3]"
   ]
  },
  {
   "cell_type": "code",
   "execution_count": 65,
   "id": "4d6ff30d",
   "metadata": {},
   "outputs": [
    {
     "data": {
      "text/plain": [
       "array([1, 2, 3])"
      ]
     },
     "execution_count": 65,
     "metadata": {},
     "output_type": "execute_result"
    }
   ],
   "source": [
    "arr = np.array(s_list)\n",
    "np.array(s_list)  # initialisation by name"
   ]
  },
  {
   "cell_type": "code",
   "execution_count": 66,
   "id": "25ffa8b0",
   "metadata": {},
   "outputs": [
    {
     "data": {
      "text/plain": [
       "array(['1', 'a', 'c'], dtype='<U11')"
      ]
     },
     "execution_count": 66,
     "metadata": {},
     "output_type": "execute_result"
    }
   ],
   "source": [
    "np.array([1,'a','c']) # initialisation by data"
   ]
  },
  {
   "cell_type": "markdown",
   "id": "0e4e7ad6",
   "metadata": {},
   "source": [
    "Arrays can be made of lists and tuples as well, but they behave in their own way. For instance, arrays made of sets can't be added."
   ]
  },
  {
   "cell_type": "markdown",
   "id": "40a070e0",
   "metadata": {},
   "source": [
    "#### Forming 1 dimensional arrays"
   ]
  },
  {
   "cell_type": "code",
   "execution_count": 67,
   "id": "a5c3affe",
   "metadata": {},
   "outputs": [
    {
     "data": {
      "text/plain": [
       "array([ 5, 11, 17, 23, 29])"
      ]
     },
     "execution_count": 67,
     "metadata": {},
     "output_type": "execute_result"
    }
   ],
   "source": [
    "np.arange(5,30,6) # (initial value, final value less than , step)"
   ]
  },
  {
   "cell_type": "code",
   "execution_count": 68,
   "id": "7f858daf",
   "metadata": {},
   "outputs": [
    {
     "data": {
      "text/plain": [
       "array([ 5,  6,  7,  8,  9, 10, 11, 12, 13, 14, 15, 16, 17, 18, 19, 20, 21,\n",
       "       22, 23, 24, 25, 26, 27, 28, 29])"
      ]
     },
     "execution_count": 68,
     "metadata": {},
     "output_type": "execute_result"
    }
   ],
   "source": [
    "np.arange(5,30) # default step = 1"
   ]
  },
  {
   "cell_type": "code",
   "execution_count": 69,
   "id": "a9d72229",
   "metadata": {},
   "outputs": [
    {
     "data": {
      "text/plain": [
       "array([ 0,  1,  2,  3,  4,  5,  6,  7,  8,  9, 10, 11, 12, 13, 14, 15, 16,\n",
       "       17, 18, 19, 20, 21, 22, 23, 24, 25, 26, 27, 28, 29])"
      ]
     },
     "execution_count": 69,
     "metadata": {},
     "output_type": "execute_result"
    }
   ],
   "source": [
    "np.arange(30) # default intial value = 0"
   ]
  },
  {
   "cell_type": "code",
   "execution_count": 70,
   "id": "7547f420",
   "metadata": {},
   "outputs": [
    {
     "data": {
      "text/plain": [
       "array([ 5.  , 11.25, 17.5 , 23.75, 30.  ])"
      ]
     },
     "execution_count": 70,
     "metadata": {},
     "output_type": "execute_result"
    }
   ],
   "source": [
    "np.linspace(5,30,5) # (inital value, final value, no. of total values)"
   ]
  },
  {
   "cell_type": "code",
   "execution_count": 71,
   "id": "9e13c9d1",
   "metadata": {},
   "outputs": [
    {
     "data": {
      "text/plain": [
       "array([ 5, 11, 17, 23, 30])"
      ]
     },
     "execution_count": 71,
     "metadata": {},
     "output_type": "execute_result"
    }
   ],
   "source": [
    "np.linspace(5,30,5, dtype = int)"
   ]
  },
  {
   "cell_type": "code",
   "execution_count": 72,
   "id": "338b1eff",
   "metadata": {},
   "outputs": [
    {
     "data": {
      "text/plain": [
       "array([20.        , 19.6122449 , 19.2244898 , 18.83673469, 18.44897959,\n",
       "       18.06122449, 17.67346939, 17.28571429, 16.89795918, 16.51020408,\n",
       "       16.12244898, 15.73469388, 15.34693878, 14.95918367, 14.57142857,\n",
       "       14.18367347, 13.79591837, 13.40816327, 13.02040816, 12.63265306,\n",
       "       12.24489796, 11.85714286, 11.46938776, 11.08163265, 10.69387755,\n",
       "       10.30612245,  9.91836735,  9.53061224,  9.14285714,  8.75510204,\n",
       "        8.36734694,  7.97959184,  7.59183673,  7.20408163,  6.81632653,\n",
       "        6.42857143,  6.04081633,  5.65306122,  5.26530612,  4.87755102,\n",
       "        4.48979592,  4.10204082,  3.71428571,  3.32653061,  2.93877551,\n",
       "        2.55102041,  2.16326531,  1.7755102 ,  1.3877551 ,  1.        ])"
      ]
     },
     "execution_count": 72,
     "metadata": {},
     "output_type": "execute_result"
    }
   ],
   "source": [
    "np.linspace(20,1) # 50 values by default."
   ]
  },
  {
   "cell_type": "code",
   "execution_count": 73,
   "id": "89c822d9",
   "metadata": {},
   "outputs": [
    {
     "data": {
      "text/plain": [
       "array([1., 1., 1., 1., 1.])"
      ]
     },
     "execution_count": 73,
     "metadata": {},
     "output_type": "execute_result"
    }
   ],
   "source": [
    "np.ones(5)"
   ]
  },
  {
   "cell_type": "code",
   "execution_count": 74,
   "id": "9bdce87c",
   "metadata": {},
   "outputs": [
    {
     "data": {
      "text/plain": [
       "array([1, 1, 1, 1, 1])"
      ]
     },
     "execution_count": 74,
     "metadata": {},
     "output_type": "execute_result"
    }
   ],
   "source": [
    "np.ones(5,int)"
   ]
  },
  {
   "cell_type": "code",
   "execution_count": 75,
   "id": "4ff5a1f0",
   "metadata": {},
   "outputs": [
    {
     "data": {
      "text/plain": [
       "array([0, 0, 0, 0, 0, 0, 0])"
      ]
     },
     "execution_count": 75,
     "metadata": {},
     "output_type": "execute_result"
    }
   ],
   "source": [
    "np.zeros(7,int)"
   ]
  },
  {
   "cell_type": "code",
   "execution_count": 76,
   "id": "e4e5a6f1",
   "metadata": {},
   "outputs": [
    {
     "data": {
      "text/plain": [
       "array([[1.]])"
      ]
     },
     "execution_count": 76,
     "metadata": {},
     "output_type": "execute_result"
    }
   ],
   "source": [
    "np.eye(1) # identity matrix (makes more sense for higher orders.)"
   ]
  },
  {
   "cell_type": "markdown",
   "id": "e18a0615",
   "metadata": {},
   "source": [
    "#### Working with one dimensional arrays"
   ]
  },
  {
   "cell_type": "code",
   "execution_count": 77,
   "id": "034144c8",
   "metadata": {},
   "outputs": [
    {
     "data": {
      "text/plain": [
       "2.0"
      ]
     },
     "execution_count": 77,
     "metadata": {},
     "output_type": "execute_result"
    }
   ],
   "source": [
    "np.mean(arr)"
   ]
  },
  {
   "cell_type": "code",
   "execution_count": 78,
   "id": "1c4e4b2d",
   "metadata": {},
   "outputs": [
    {
     "data": {
      "text/plain": [
       "2.0"
      ]
     },
     "execution_count": 78,
     "metadata": {},
     "output_type": "execute_result"
    }
   ],
   "source": [
    "np.median(arr) # There's no mode with np, I checked."
   ]
  },
  {
   "cell_type": "code",
   "execution_count": 79,
   "id": "870088f2",
   "metadata": {},
   "outputs": [
    {
     "data": {
      "text/plain": [
       "0.6666666666666666"
      ]
     },
     "execution_count": 79,
     "metadata": {},
     "output_type": "execute_result"
    }
   ],
   "source": [
    "np.var(arr)"
   ]
  },
  {
   "cell_type": "code",
   "execution_count": 80,
   "id": "1c2dffde",
   "metadata": {},
   "outputs": [
    {
     "data": {
      "text/plain": [
       "0.816496580927726"
      ]
     },
     "execution_count": 80,
     "metadata": {},
     "output_type": "execute_result"
    }
   ],
   "source": [
    "np.std(arr)"
   ]
  },
  {
   "cell_type": "code",
   "execution_count": 81,
   "id": "05d8ce3c",
   "metadata": {
    "scrolled": true
   },
   "outputs": [
    {
     "data": {
      "text/plain": [
       "array([1, 4, 9], dtype=int32)"
      ]
     },
     "execution_count": 81,
     "metadata": {},
     "output_type": "execute_result"
    }
   ],
   "source": [
    "np.square(arr)"
   ]
  },
  {
   "cell_type": "code",
   "execution_count": 82,
   "id": "65f9d9f2",
   "metadata": {},
   "outputs": [
    {
     "data": {
      "text/plain": [
       "array([1.        , 1.41421356, 1.73205081])"
      ]
     },
     "execution_count": 82,
     "metadata": {},
     "output_type": "execute_result"
    }
   ],
   "source": [
    "np.sqrt(arr)"
   ]
  },
  {
   "cell_type": "code",
   "execution_count": 83,
   "id": "b84e9794",
   "metadata": {},
   "outputs": [
    {
     "data": {
      "text/plain": [
       "1"
      ]
     },
     "execution_count": 83,
     "metadata": {},
     "output_type": "execute_result"
    }
   ],
   "source": [
    "np.min(arr) # same goes for max"
   ]
  },
  {
   "cell_type": "code",
   "execution_count": 84,
   "id": "55263df8",
   "metadata": {},
   "outputs": [
    {
     "data": {
      "text/plain": [
       "0"
      ]
     },
     "execution_count": 84,
     "metadata": {},
     "output_type": "execute_result"
    }
   ],
   "source": [
    "np.argmin(arr) # arg of min value # same goes for max."
   ]
  },
  {
   "cell_type": "code",
   "execution_count": 85,
   "id": "601eeb46",
   "metadata": {
    "scrolled": true
   },
   "outputs": [
    {
     "data": {
      "text/plain": [
       "array([ 2.71828183,  7.3890561 , 20.08553692])"
      ]
     },
     "execution_count": 85,
     "metadata": {},
     "output_type": "execute_result"
    }
   ],
   "source": [
    "e = np.exp(arr)\n",
    "e"
   ]
  },
  {
   "cell_type": "code",
   "execution_count": 86,
   "id": "8aa3bf94",
   "metadata": {},
   "outputs": [
    {
     "data": {
      "text/plain": [
       "array([ 2.718,  7.389, 20.086])"
      ]
     },
     "execution_count": 86,
     "metadata": {},
     "output_type": "execute_result"
    }
   ],
   "source": [
    "np.round(e,3) # rounds off upto 3 decimal places."
   ]
  },
  {
   "cell_type": "markdown",
   "id": "d6bcc101",
   "metadata": {},
   "source": [
    "The above commands can be used for any kind of containers (list,tupple... ), not just arrays."
   ]
  },
  {
   "cell_type": "code",
   "execution_count": 87,
   "id": "e516c5ef",
   "metadata": {},
   "outputs": [],
   "source": [
    "s_list2 = [3,4,5]\n",
    "arr2 = np.array(s_list2)"
   ]
  },
  {
   "cell_type": "code",
   "execution_count": 88,
   "id": "dd93df93",
   "metadata": {},
   "outputs": [
    {
     "data": {
      "text/plain": [
       "[1, 2, 3, 3, 4, 5]"
      ]
     },
     "execution_count": 88,
     "metadata": {},
     "output_type": "execute_result"
    }
   ],
   "source": [
    "s_list + s_list2 # when lists are added"
   ]
  },
  {
   "cell_type": "code",
   "execution_count": 89,
   "id": "2b1c35a4",
   "metadata": {},
   "outputs": [
    {
     "data": {
      "text/plain": [
       "array([4, 6, 8])"
      ]
     },
     "execution_count": 89,
     "metadata": {},
     "output_type": "execute_result"
    }
   ],
   "source": [
    "arr + arr2 # when arrays are added"
   ]
  },
  {
   "cell_type": "code",
   "execution_count": 90,
   "id": "0a29b269",
   "metadata": {},
   "outputs": [
    {
     "data": {
      "text/plain": [
       "array([11, 12, 13])"
      ]
     },
     "execution_count": 90,
     "metadata": {},
     "output_type": "execute_result"
    }
   ],
   "source": [
    "arr + 10 # or *10, /10, - 10"
   ]
  },
  {
   "cell_type": "code",
   "execution_count": 91,
   "id": "ad68965f",
   "metadata": {},
   "outputs": [
    {
     "data": {
      "text/plain": [
       "array([ True, False, False])"
      ]
     },
     "execution_count": 91,
     "metadata": {},
     "output_type": "execute_result"
    }
   ],
   "source": [
    "arr < 2 # gives a boolean array of requried condition"
   ]
  },
  {
   "cell_type": "code",
   "execution_count": 92,
   "id": "9d98fa38",
   "metadata": {},
   "outputs": [],
   "source": [
    "b = np.array([\"animals\",\"a\",\"b\",\"animals\"]) "
   ]
  },
  {
   "cell_type": "code",
   "execution_count": 93,
   "id": "36809317",
   "metadata": {},
   "outputs": [
    {
     "data": {
      "text/plain": [
       "array(['a', 'animals', 'b'], dtype='<U7')"
      ]
     },
     "execution_count": 93,
     "metadata": {},
     "output_type": "execute_result"
    }
   ],
   "source": [
    "np.unique(b) # only retains unique elements."
   ]
  },
  {
   "cell_type": "code",
   "execution_count": 94,
   "id": "c75e954c",
   "metadata": {},
   "outputs": [
    {
     "data": {
      "text/plain": [
       "array([1, 2])"
      ]
     },
     "execution_count": 94,
     "metadata": {},
     "output_type": "execute_result"
    }
   ],
   "source": [
    "arr[0:2] # slicing of array"
   ]
  },
  {
   "cell_type": "code",
   "execution_count": 95,
   "id": "45ab3288",
   "metadata": {},
   "outputs": [
    {
     "data": {
      "text/plain": [
       "array([100, 100, 100])"
      ]
     },
     "execution_count": 95,
     "metadata": {},
     "output_type": "execute_result"
    }
   ],
   "source": [
    "arr[:] = 100 # arr[:] means all the values in arr, and when arr[:] = 100, all values will be set to 100\n",
    "arr"
   ]
  },
  {
   "cell_type": "code",
   "execution_count": 96,
   "id": "4fde6cd6",
   "metadata": {},
   "outputs": [],
   "source": [
    "test = np.arange(12) # We'll use this later."
   ]
  },
  {
   "cell_type": "markdown",
   "id": "658f8d06",
   "metadata": {},
   "source": [
    "### 2 Dimensional arrays"
   ]
  },
  {
   "cell_type": "markdown",
   "id": "615fea89",
   "metadata": {},
   "source": [
    "#### Initialisation of arrays:"
   ]
  },
  {
   "cell_type": "code",
   "execution_count": 97,
   "id": "651c94ad",
   "metadata": {},
   "outputs": [],
   "source": [
    "list_of_lists = [[1,2,3],[4,5,6]]"
   ]
  },
  {
   "cell_type": "code",
   "execution_count": 98,
   "id": "d4567b1f",
   "metadata": {},
   "outputs": [
    {
     "data": {
      "text/plain": [
       "array([[1, 2, 3],\n",
       "       [4, 5, 6]])"
      ]
     },
     "execution_count": 98,
     "metadata": {},
     "output_type": "execute_result"
    }
   ],
   "source": [
    "np.array(list_of_lists) # initialisation by name"
   ]
  },
  {
   "cell_type": "code",
   "execution_count": 99,
   "id": "8014cd34",
   "metadata": {},
   "outputs": [
    {
     "data": {
      "text/plain": [
       "array([['1', '2', '3'],\n",
       "       ['4', '1', 'c']], dtype='<U11')"
      ]
     },
     "execution_count": 99,
     "metadata": {},
     "output_type": "execute_result"
    }
   ],
   "source": [
    "np.array(([1,2,3],[4,'1','c'])) # initialisation by data. # notice that the lists went into (()) and not ()"
   ]
  },
  {
   "cell_type": "markdown",
   "id": "c8504707",
   "metadata": {},
   "source": [
    "#### Forming 2 Dimensional Arrays"
   ]
  },
  {
   "cell_type": "code",
   "execution_count": 100,
   "id": "f5033951",
   "metadata": {},
   "outputs": [
    {
     "data": {
      "text/plain": [
       "array([[ 0,  1,  2,  3],\n",
       "       [ 4,  5,  6,  7],\n",
       "       [ 8,  9, 10, 11]])"
      ]
     },
     "execution_count": 100,
     "metadata": {},
     "output_type": "execute_result"
    }
   ],
   "source": [
    "test = test.reshape(3,4) # Told you we'll use it. # Used to change the dimension of array, as long as the number of terms are same.\n",
    "test"
   ]
  },
  {
   "cell_type": "code",
   "execution_count": 101,
   "id": "eedab376",
   "metadata": {},
   "outputs": [
    {
     "data": {
      "text/plain": [
       "array([[1., 1., 1., 1.],\n",
       "       [1., 1., 1., 1.],\n",
       "       [1., 1., 1., 1.]])"
      ]
     },
     "execution_count": 101,
     "metadata": {},
     "output_type": "execute_result"
    }
   ],
   "source": [
    "np.ones((3,4))"
   ]
  },
  {
   "cell_type": "code",
   "execution_count": 102,
   "id": "cd649464",
   "metadata": {},
   "outputs": [
    {
     "data": {
      "text/plain": [
       "array([[0., 0., 0., 0.],\n",
       "       [0., 0., 0., 0.],\n",
       "       [0., 0., 0., 0.]])"
      ]
     },
     "execution_count": 102,
     "metadata": {},
     "output_type": "execute_result"
    }
   ],
   "source": [
    "np.zeros((3,4))"
   ]
  },
  {
   "cell_type": "code",
   "execution_count": 103,
   "id": "40cc3ac9",
   "metadata": {},
   "outputs": [
    {
     "data": {
      "text/plain": [
       "array([[1, 0, 0],\n",
       "       [0, 1, 0],\n",
       "       [0, 0, 1]])"
      ]
     },
     "execution_count": 103,
     "metadata": {},
     "output_type": "execute_result"
    }
   ],
   "source": [
    "np.eye(3,dtype = int)"
   ]
  },
  {
   "cell_type": "markdown",
   "id": "8ea14d56",
   "metadata": {},
   "source": [
    "####  Random"
   ]
  },
  {
   "cell_type": "code",
   "execution_count": 104,
   "id": "fa57136f",
   "metadata": {},
   "outputs": [
    {
     "data": {
      "text/plain": [
       "array([15, 13, 13,  5,  5, 19])"
      ]
     },
     "execution_count": 104,
     "metadata": {},
     "output_type": "execute_result"
    }
   ],
   "source": [
    "np.random.randint(5,20,6) # gives 6 random integers between 5 and 20"
   ]
  },
  {
   "cell_type": "code",
   "execution_count": 105,
   "id": "50abd500",
   "metadata": {},
   "outputs": [
    {
     "data": {
      "text/plain": [
       "array([[19, 17, 19, 18,  6],\n",
       "       [ 6, 19,  7, 18, 18],\n",
       "       [ 8,  5, 15,  9, 16]])"
      ]
     },
     "execution_count": 105,
     "metadata": {},
     "output_type": "execute_result"
    }
   ],
   "source": [
    "np.random.randint(5,20,(3,5)) # gives (3,5) random integers between 5 and 20"
   ]
  },
  {
   "cell_type": "code",
   "execution_count": 106,
   "id": "52f9605d",
   "metadata": {},
   "outputs": [
    {
     "data": {
      "text/plain": [
       "array([0.22717762, 0.42129474, 0.29644839])"
      ]
     },
     "execution_count": 106,
     "metadata": {},
     "output_type": "execute_result"
    }
   ],
   "source": [
    "np.random.rand(3) # 3 random floating point numbers"
   ]
  },
  {
   "cell_type": "code",
   "execution_count": 107,
   "id": "5447a314",
   "metadata": {},
   "outputs": [
    {
     "data": {
      "text/plain": [
       "array([[[0.34823488, 0.38755133, 0.17099846, 0.17236837],\n",
       "        [0.60919636, 0.11952399, 0.0512708 , 0.31441947],\n",
       "        [0.1990066 , 0.97881257, 0.9298638 , 0.51707034]],\n",
       "\n",
       "       [[0.58215773, 0.39334555, 0.84803157, 0.47945123],\n",
       "        [0.01115889, 0.06279005, 0.35745031, 0.05645516],\n",
       "        [0.56208123, 0.3798675 , 0.1317949 , 0.70493065]],\n",
       "\n",
       "       [[0.99064558, 0.87609801, 0.11202042, 0.92824007],\n",
       "        [0.22965346, 0.97047124, 0.9368167 , 0.23269548],\n",
       "        [0.39681881, 0.94958737, 0.41054043, 0.68689156]]])"
      ]
     },
     "execution_count": 107,
     "metadata": {},
     "output_type": "execute_result"
    }
   ],
   "source": [
    "np.random.rand(3,3,4) # 3 sets of floating point numbers of the form (3,4)"
   ]
  },
  {
   "cell_type": "code",
   "execution_count": 108,
   "id": "020fb344",
   "metadata": {},
   "outputs": [
    {
     "data": {
      "text/plain": [
       "array([[0.67059469, 0.33008073, 0.18555247, 0.30268374],\n",
       "       [0.01053149, 0.26589713, 0.15667795, 0.33740495],\n",
       "       [0.26211806, 0.43857759, 0.85771237, 0.72519239]])"
      ]
     },
     "execution_count": 108,
     "metadata": {},
     "output_type": "execute_result"
    }
   ],
   "source": [
    "np.random.rand(3,4)"
   ]
  },
  {
   "cell_type": "code",
   "execution_count": 109,
   "id": "dabff656",
   "metadata": {},
   "outputs": [
    {
     "data": {
      "text/plain": [
       "array([[-0.70248921, -0.09023764,  0.50763283],\n",
       "       [ 0.3943406 ,  0.03199455, -1.18977738]])"
      ]
     },
     "execution_count": 109,
     "metadata": {},
     "output_type": "execute_result"
    }
   ],
   "source": [
    "np.random.randn(2,3) # samples of normal distribution with mean 0 and variance 1"
   ]
  },
  {
   "cell_type": "code",
   "execution_count": 110,
   "id": "cdb97646",
   "metadata": {},
   "outputs": [
    {
     "data": {
      "text/plain": [
       "array([[ 5.82715175, 19.09469382, 22.84347046],\n",
       "       [17.26449485, 10.15940289, 28.76786552]])"
      ]
     },
     "execution_count": 110,
     "metadata": {},
     "output_type": "execute_result"
    }
   ],
   "source": [
    " np.random.normal(17,10,(2,3)) # samples of normal distribution with centre 17 and spread 17"
   ]
  },
  {
   "cell_type": "markdown",
   "id": "787ace74",
   "metadata": {},
   "source": [
    "#### Working with 2 dimensional arrays"
   ]
  },
  {
   "cell_type": "code",
   "execution_count": 111,
   "id": "cabcd8a1",
   "metadata": {},
   "outputs": [
    {
     "data": {
      "text/plain": [
       "(3, 4)"
      ]
     },
     "execution_count": 111,
     "metadata": {},
     "output_type": "execute_result"
    }
   ],
   "source": [
    "test.shape # shape of the array"
   ]
  },
  {
   "cell_type": "code",
   "execution_count": 112,
   "id": "cd7c97e9",
   "metadata": {},
   "outputs": [
    {
     "data": {
      "text/plain": [
       "11"
      ]
     },
     "execution_count": 112,
     "metadata": {},
     "output_type": "execute_result"
    }
   ],
   "source": [
    "test[2][3] # getting the value with indices"
   ]
  },
  {
   "cell_type": "code",
   "execution_count": 113,
   "id": "6ec5e255",
   "metadata": {},
   "outputs": [
    {
     "data": {
      "text/plain": [
       "11"
      ]
     },
     "execution_count": 113,
     "metadata": {},
     "output_type": "execute_result"
    }
   ],
   "source": [
    "test[2,3] # getting the value with indices"
   ]
  },
  {
   "cell_type": "code",
   "execution_count": 114,
   "id": "d52d752c",
   "metadata": {},
   "outputs": [
    {
     "data": {
      "text/plain": [
       "array([[ 4,  5,  6,  7],\n",
       "       [ 8,  9, 10, 11]])"
      ]
     },
     "execution_count": 114,
     "metadata": {},
     "output_type": "execute_result"
    }
   ],
   "source": [
    "test[1:3] # getting the rows with index"
   ]
  },
  {
   "cell_type": "code",
   "execution_count": 115,
   "id": "a9104e42",
   "metadata": {},
   "outputs": [
    {
     "data": {
      "text/plain": [
       "array([ 3,  7, 11])"
      ]
     },
     "execution_count": 115,
     "metadata": {},
     "output_type": "execute_result"
    }
   ],
   "source": [
    "test[:,3] # all rows but column 3"
   ]
  },
  {
   "cell_type": "code",
   "execution_count": 116,
   "id": "0afb1946",
   "metadata": {},
   "outputs": [
    {
     "data": {
      "text/plain": [
       "array([4, 5, 6, 7])"
      ]
     },
     "execution_count": 116,
     "metadata": {},
     "output_type": "execute_result"
    }
   ],
   "source": [
    "test[1,:] # all columns by row 1"
   ]
  },
  {
   "cell_type": "code",
   "execution_count": 117,
   "id": "289eb3a2",
   "metadata": {},
   "outputs": [
    {
     "data": {
      "text/plain": [
       "array([[ 3,  2],\n",
       "       [ 7,  6],\n",
       "       [11, 10]])"
      ]
     },
     "execution_count": 117,
     "metadata": {},
     "output_type": "execute_result"
    }
   ],
   "source": [
    "test[:,(3,2)] # all rows but columns 3 and 2 in that order"
   ]
  },
  {
   "cell_type": "code",
   "execution_count": 118,
   "id": "cf0605fa",
   "metadata": {},
   "outputs": [
    {
     "data": {
      "text/plain": [
       "array([[ 0,  4,  8],\n",
       "       [ 1,  5,  9],\n",
       "       [ 2,  6, 10],\n",
       "       [ 3,  7, 11]])"
      ]
     },
     "execution_count": 118,
     "metadata": {},
     "output_type": "execute_result"
    }
   ],
   "source": [
    "test.T # transpose matrix"
   ]
  },
  {
   "cell_type": "code",
   "execution_count": null,
   "id": "0cfa3eed",
   "metadata": {},
   "outputs": [],
   "source": []
  }
 ],
 "metadata": {
  "kernelspec": {
   "display_name": "Python 3 (ipykernel)",
   "language": "python",
   "name": "python3"
  },
  "language_info": {
   "codemirror_mode": {
    "name": "ipython",
    "version": 3
   },
   "file_extension": ".py",
   "mimetype": "text/x-python",
   "name": "python",
   "nbconvert_exporter": "python",
   "pygments_lexer": "ipython3",
   "version": "3.9.12"
  }
 },
 "nbformat": 4,
 "nbformat_minor": 5
}
