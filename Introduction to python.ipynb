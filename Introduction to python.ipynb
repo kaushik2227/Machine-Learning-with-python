{
 "cells": [
  {
   "cell_type": "markdown",
   "id": "697d3eb1",
   "metadata": {},
   "source": [
    "## Introduction "
   ]
  },
  {
   "cell_type": "code",
   "execution_count": 6,
   "id": "025f2cd2",
   "metadata": {
    "scrolled": true
   },
   "outputs": [
    {
     "name": "stdout",
     "output_type": "stream",
     "text": [
      "hello world\n",
      "\n"
     ]
    }
   ],
   "source": [
    "print(\"hello world\\n\")"
   ]
  },
  {
   "cell_type": "code",
   "execution_count": 7,
   "id": "3bc54db9",
   "metadata": {},
   "outputs": [
    {
     "name": "stdout",
     "output_type": "stream",
     "text": [
      "hello world\\n\n"
     ]
    }
   ],
   "source": [
    "print(r\"hello world\\n\") # 'r' makes sure that the special characters in \"\" are not treated as special characters."
   ]
  },
  {
   "cell_type": "code",
   "execution_count": 8,
   "id": "6e5b4e5b",
   "metadata": {},
   "outputs": [
    {
     "data": {
      "text/plain": [
       "bool"
      ]
     },
     "execution_count": 8,
     "metadata": {},
     "output_type": "execute_result"
    }
   ],
   "source": [
    "x = True \n",
    "type(x)"
   ]
  },
  {
   "cell_type": "code",
   "execution_count": 9,
   "id": "b1fea6d4",
   "metadata": {},
   "outputs": [],
   "source": [
    "a = 5"
   ]
  },
  {
   "cell_type": "code",
   "execution_count": 10,
   "id": "b54b0a1c",
   "metadata": {
    "scrolled": true
   },
   "outputs": [
    {
     "name": "stdout",
     "output_type": "stream",
     "text": [
      "5\n"
     ]
    }
   ],
   "source": [
    "print(a)"
   ]
  },
  {
   "cell_type": "code",
   "execution_count": 11,
   "id": "bfdfa17b",
   "metadata": {},
   "outputs": [
    {
     "name": "stdout",
     "output_type": "stream",
     "text": [
      "['this', 'basically', 'splits', 'up', 'a', 'string', 'into', 'a', 'list', 'of', 'smaller', 'strings', 'taking', 'space', 'as', 'deliminators']\n"
     ]
    }
   ],
   "source": [
    "x = \"this basically splits up a string into a list of smaller strings taking space as deliminators\".split()\n",
    "print(x)"
   ]
  },
  {
   "cell_type": "markdown",
   "id": "45991ab0",
   "metadata": {},
   "source": [
    "## Shortcuts"
   ]
  },
  {
   "cell_type": "markdown",
   "id": "24c37ff4",
   "metadata": {},
   "source": [
    "- Shift + Enter -> run\n",
    "- a -> insert a cell above\n",
    "- b -> insert a cell below\n",
    "- x -> delete a cell \n",
    "- dd -> delete a cell \n",
    "- m -> Heading\n"
   ]
  },
  {
   "cell_type": "markdown",
   "id": "aa98c912",
   "metadata": {},
   "source": [
    "## Lists and Tuples\n",
    "\n"
   ]
  },
  {
   "cell_type": "code",
   "execution_count": 12,
   "id": "a5d493be",
   "metadata": {},
   "outputs": [
    {
     "name": "stdout",
     "output_type": "stream",
     "text": [
      "1\n",
      "(1, 2)\n",
      "(1, 'a', 2)\n"
     ]
    },
    {
     "data": {
      "text/plain": [
       "3"
      ]
     },
     "execution_count": 12,
     "metadata": {},
     "output_type": "execute_result"
    }
   ],
   "source": [
    "a = (1,2,3) #tuple\n",
    "type(a)\n",
    "print(a[0])\n",
    "print(a[0:2]) # indexing of lists.\n",
    "b = (1,\"a\",2) \n",
    "print(b)\n",
    "len(b)\n"
   ]
  },
  {
   "cell_type": "code",
   "execution_count": 13,
   "id": "db53a9d9",
   "metadata": {},
   "outputs": [
    {
     "ename": "TypeError",
     "evalue": "'tuple' object does not support item assignment",
     "output_type": "error",
     "traceback": [
      "\u001b[1;31m---------------------------------------------------------------------------\u001b[0m",
      "\u001b[1;31mTypeError\u001b[0m                                 Traceback (most recent call last)",
      "Input \u001b[1;32mIn [13]\u001b[0m, in \u001b[0;36m<cell line: 1>\u001b[1;34m()\u001b[0m\n\u001b[1;32m----> 1\u001b[0m a[\u001b[38;5;241m0\u001b[39m] \u001b[38;5;241m=\u001b[39m \u001b[38;5;241m2\u001b[39m\n",
      "\u001b[1;31mTypeError\u001b[0m: 'tuple' object does not support item assignment"
     ]
    }
   ],
   "source": [
    "a[0] = 2"
   ]
  },
  {
   "cell_type": "markdown",
   "id": "5aed93a5",
   "metadata": {},
   "source": [
    "Tuples: \n",
    "- Heterogenous\n",
    "- Immutable \n",
    "- Values can be called by index\n",
    "- Can be sliced with the help of index\n",
    "- Duplicates are allowed"
   ]
  },
  {
   "cell_type": "code",
   "execution_count": null,
   "id": "dbdb07e1",
   "metadata": {},
   "outputs": [],
   "source": [
    "a = [1,2,3] #list\n",
    "type(a)\n",
    "print(a[0])\n",
    "a[0] = 2\n",
    "print(a[0:2])\n",
    "a[0:2] = [] # assigns 0 to the elements 0-2\n",
    "print(a)\n",
    "print(a[0])\n",
    "b = [1,\"a\",2]\n",
    "print(b)\n",
    "len(b)"
   ]
  },
  {
   "cell_type": "markdown",
   "id": "acdc1a91",
   "metadata": {},
   "source": [
    "List:\n",
    "- Heterogenous\n",
    "- Mutable \n",
    "- values can be called by index (index starts with 0) (strings can be dealt with this way too)\n",
    "- But strings are not mutable by index\n",
    "- Can be sliced with the help of index\n",
    "- Duplicates are allowed\n",
    "    "
   ]
  },
  {
   "cell_type": "markdown",
   "id": "6bc42908",
   "metadata": {},
   "source": [
    "## Sets"
   ]
  },
  {
   "cell_type": "code",
   "execution_count": null,
   "id": "f6516751",
   "metadata": {},
   "outputs": [],
   "source": [
    "a = {1,11,2,3,4,5,1,10.5}\n",
    "print(a)\n",
    "b = {1,\"a\",2}\n",
    "print(b)\n",
    "b.add(5) # adds elements to the set.\n",
    "print(b)\n",
    "b.remove(5) # removes elements from the set.\n",
    "print(b)\n",
    "len(b)"
   ]
  },
  {
   "cell_type": "code",
   "execution_count": null,
   "id": "f5db3e7a",
   "metadata": {},
   "outputs": [],
   "source": [
    "print(a[0])"
   ]
  },
  {
   "cell_type": "markdown",
   "id": "b1de9354",
   "metadata": {},
   "source": [
    "- Heterogeneous\n",
    "- Can't be called by using index\n",
    "- Can't be sliced.\n",
    "- Stores data in a specific order, cannot be determined by the user.\n",
    "- Mutable but not by index, can use the options set.add() or set.remove()\n",
    "- Duplicates are not allowed."
   ]
  },
  {
   "cell_type": "markdown",
   "id": "4f66e17a",
   "metadata": {},
   "source": [
    "## Dictionaries"
   ]
  },
  {
   "cell_type": "code",
   "execution_count": null,
   "id": "77eaf194",
   "metadata": {},
   "outputs": [],
   "source": [
    "s_dict = {'a': 1, 'b' : 2, 'b':3, 'c': 2, 'd':\"sasa\"}\n",
    "print(s_dict)\n",
    "s_dict['a'] =  4 \n",
    "s_dict[5] = 20\n",
    "s_dict"
   ]
  },
  {
   "cell_type": "code",
   "execution_count": null,
   "id": "177a46e0",
   "metadata": {},
   "outputs": [],
   "source": [
    "s_dict['a']"
   ]
  },
  {
   "cell_type": "markdown",
   "id": "881fda55",
   "metadata": {},
   "source": [
    "- Heterogeneous\n",
    "- Mutable \n",
    "- Corresponding keys can be used to call corresponding value, but the converse is not true.\n",
    "- Duplicate keys are not allowed but duplicate values are allowed. In case of duplicate keys, the last value is attributed to the key.\n"
   ]
  },
  {
   "cell_type": "code",
   "execution_count": null,
   "id": "2300832a",
   "metadata": {},
   "outputs": [],
   "source": [
    "s_dict2 = {1:2, 2:3, 2:4, 3:3}"
   ]
  },
  {
   "cell_type": "code",
   "execution_count": 14,
   "id": "e825ff37",
   "metadata": {},
   "outputs": [
    {
     "data": {
      "text/plain": [
       "4"
      ]
     },
     "execution_count": 14,
     "metadata": {},
     "output_type": "execute_result"
    }
   ],
   "source": [
    "s_dict2[2]"
   ]
  },
  {
   "cell_type": "code",
   "execution_count": null,
   "id": "cdd07962",
   "metadata": {},
   "outputs": [],
   "source": []
  }
 ],
 "metadata": {
  "kernelspec": {
   "display_name": "Python 3 (ipykernel)",
   "language": "python",
   "name": "python3"
  },
  "language_info": {
   "codemirror_mode": {
    "name": "ipython",
    "version": 3
   },
   "file_extension": ".py",
   "mimetype": "text/x-python",
   "name": "python",
   "nbconvert_exporter": "python",
   "pygments_lexer": "ipython3",
   "version": "3.9.12"
  }
 },
 "nbformat": 4,
 "nbformat_minor": 5
}
