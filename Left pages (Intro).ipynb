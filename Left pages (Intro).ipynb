{
 "cells": [
  {
   "cell_type": "code",
   "execution_count": 3,
   "id": "dc9620a2",
   "metadata": {},
   "outputs": [],
   "source": [
    "import numpy as no"
   ]
  },
  {
   "cell_type": "markdown",
   "id": "7abdf52f",
   "metadata": {},
   "source": [
    "## Operations on sets"
   ]
  },
  {
   "cell_type": "code",
   "execution_count": 6,
   "id": "8fb5355b",
   "metadata": {},
   "outputs": [],
   "source": [
    "set1 = {'a',1,3,4}\n",
    "set2 = {1,3,4}"
   ]
  },
  {
   "cell_type": "code",
   "execution_count": 7,
   "id": "6eda1aaa",
   "metadata": {},
   "outputs": [],
   "source": [
    "a = no.array(set1)\n",
    "b = no.array(set2)"
   ]
  },
  {
   "cell_type": "code",
   "execution_count": 9,
   "id": "cee35ef7",
   "metadata": {},
   "outputs": [
    {
     "data": {
      "text/plain": [
       "{'a'}"
      ]
     },
     "execution_count": 9,
     "metadata": {},
     "output_type": "execute_result"
    }
   ],
   "source": [
    "set1 - set2 # sets can be subtracted"
   ]
  },
  {
   "cell_type": "code",
   "execution_count": 22,
   "id": "3ac91d2b",
   "metadata": {
    "scrolled": true
   },
   "outputs": [
    {
     "ename": "TypeError",
     "evalue": "unsupported operand type(s) for +: 'set' and 'set'",
     "output_type": "error",
     "traceback": [
      "\u001b[1;31m---------------------------------------------------------------------------\u001b[0m",
      "\u001b[1;31mTypeError\u001b[0m                                 Traceback (most recent call last)",
      "Input \u001b[1;32mIn [22]\u001b[0m, in \u001b[0;36m<cell line: 1>\u001b[1;34m()\u001b[0m\n\u001b[1;32m----> 1\u001b[0m \u001b[43mset2\u001b[49m\u001b[43m \u001b[49m\u001b[38;5;241;43m+\u001b[39;49m\u001b[43m \u001b[49m\u001b[43mset2\u001b[49m\n",
      "\u001b[1;31mTypeError\u001b[0m: unsupported operand type(s) for +: 'set' and 'set'"
     ]
    }
   ],
   "source": [
    "set2 + set2 # sets can't be added"
   ]
  },
  {
   "cell_type": "code",
   "execution_count": 49,
   "id": "f5bca55a",
   "metadata": {},
   "outputs": [
    {
     "data": {
      "text/plain": [
       "{1, 3, 4, 'a'}"
      ]
     },
     "execution_count": 49,
     "metadata": {},
     "output_type": "execute_result"
    }
   ],
   "source": [
    "set1.union(set2) # seta.union(setb,setc....) gives the union of all the sets. "
   ]
  },
  {
   "cell_type": "code",
   "execution_count": 50,
   "id": "4ab25fad",
   "metadata": {},
   "outputs": [
    {
     "data": {
      "text/plain": [
       "{1, 3, 4, 'a'}"
      ]
     },
     "execution_count": 50,
     "metadata": {},
     "output_type": "execute_result"
    }
   ],
   "source": [
    "set1 | set2 # This gives union as well."
   ]
  },
  {
   "cell_type": "code",
   "execution_count": 53,
   "id": "502c6f88",
   "metadata": {
    "scrolled": true
   },
   "outputs": [
    {
     "data": {
      "text/plain": [
       "{1, 3, 4}"
      ]
     },
     "execution_count": 53,
     "metadata": {},
     "output_type": "execute_result"
    }
   ],
   "source": [
    "set1.intersection(set2) # seta.intersection(setb,setc....) gives the interstection of all the sets. "
   ]
  },
  {
   "cell_type": "code",
   "execution_count": 54,
   "id": "ee3493db",
   "metadata": {},
   "outputs": [
    {
     "data": {
      "text/plain": [
       "{1, 3, 4}"
      ]
     },
     "execution_count": 54,
     "metadata": {},
     "output_type": "execute_result"
    }
   ],
   "source": [
    "set1 & set2 # This gives intersection as well."
   ]
  },
  {
   "cell_type": "code",
   "execution_count": 10,
   "id": "07543206",
   "metadata": {},
   "outputs": [
    {
     "data": {
      "text/plain": [
       "{'a'}"
      ]
     },
     "execution_count": 10,
     "metadata": {},
     "output_type": "execute_result"
    }
   ],
   "source": [
    "a - b # arrays of sets can be subtracted"
   ]
  },
  {
   "cell_type": "code",
   "execution_count": 51,
   "id": "7a74f50a",
   "metadata": {},
   "outputs": [
    {
     "data": {
      "text/plain": [
       "{1, 3, 4, 'a'}"
      ]
     },
     "execution_count": 51,
     "metadata": {},
     "output_type": "execute_result"
    }
   ],
   "source": [
    "a | b"
   ]
  },
  {
   "cell_type": "markdown",
   "id": "3aa3a32f",
   "metadata": {},
   "source": [
    "## Operations on lists"
   ]
  },
  {
   "cell_type": "code",
   "execution_count": 38,
   "id": "aade9681",
   "metadata": {},
   "outputs": [],
   "source": [
    "list1 = [1,3,4]\n",
    "list2 = [1,3,'a',6]"
   ]
  },
  {
   "cell_type": "code",
   "execution_count": 39,
   "id": "8459156b",
   "metadata": {
    "scrolled": true
   },
   "outputs": [
    {
     "data": {
      "text/plain": [
       "[1, 3, 4, 1, 3, 'a', 6]"
      ]
     },
     "execution_count": 39,
     "metadata": {},
     "output_type": "execute_result"
    }
   ],
   "source": [
    "list1 + list2 # lists when added yield catenation and can't be subtracted"
   ]
  },
  {
   "cell_type": "code",
   "execution_count": 59,
   "id": "22317b93",
   "metadata": {},
   "outputs": [
    {
     "ename": "TypeError",
     "evalue": "can't multiply sequence by non-int of type 'list'",
     "output_type": "error",
     "traceback": [
      "\u001b[1;31m---------------------------------------------------------------------------\u001b[0m",
      "\u001b[1;31mTypeError\u001b[0m                                 Traceback (most recent call last)",
      "Input \u001b[1;32mIn [59]\u001b[0m, in \u001b[0;36m<cell line: 1>\u001b[1;34m()\u001b[0m\n\u001b[1;32m----> 1\u001b[0m \u001b[43m[\u001b[49m\u001b[38;5;241;43m1\u001b[39;49m\u001b[43m,\u001b[49m\u001b[38;5;241;43m2\u001b[39;49m\u001b[43m,\u001b[49m\u001b[38;5;241;43m3\u001b[39;49m\u001b[43m]\u001b[49m\u001b[38;5;241;43m*\u001b[39;49m\u001b[43m[\u001b[49m\u001b[38;5;241;43m4\u001b[39;49m\u001b[43m,\u001b[49m\u001b[38;5;241;43m5\u001b[39;49m\u001b[43m,\u001b[49m\u001b[38;5;241;43m6\u001b[39;49m\u001b[43m]\u001b[49m\n",
      "\u001b[1;31mTypeError\u001b[0m: can't multiply sequence by non-int of type 'list'"
     ]
    }
   ],
   "source": [
    "[1,2,3]*[4,5,6] # lists can't be multiplied."
   ]
  },
  {
   "cell_type": "code",
   "execution_count": 45,
   "id": "e3fe60ef",
   "metadata": {},
   "outputs": [],
   "source": [
    "c = no.array([1,2,3])\n",
    "d = no.array([1,2,3])"
   ]
  },
  {
   "cell_type": "code",
   "execution_count": 46,
   "id": "df0d096c",
   "metadata": {},
   "outputs": [
    {
     "data": {
      "text/plain": [
       "array([0, 0, 0])"
      ]
     },
     "execution_count": 46,
     "metadata": {},
     "output_type": "execute_result"
    }
   ],
   "source": [
    "c - d  # arrays made of similar lists can be subtracted."
   ]
  },
  {
   "cell_type": "code",
   "execution_count": 55,
   "id": "a28d161b",
   "metadata": {},
   "outputs": [
    {
     "data": {
      "text/plain": [
       "array([2, 4, 6])"
      ]
     },
     "execution_count": 55,
     "metadata": {},
     "output_type": "execute_result"
    }
   ],
   "source": [
    "c + d # arrays made of similar lists can be added"
   ]
  },
  {
   "cell_type": "code",
   "execution_count": 56,
   "id": "fb3c537d",
   "metadata": {},
   "outputs": [
    {
     "data": {
      "text/plain": [
       "array([1, 4, 9])"
      ]
     },
     "execution_count": 56,
     "metadata": {},
     "output_type": "execute_result"
    }
   ],
   "source": [
    "c*d # arrays of lists cant be multiplied to multiply corresponding values."
   ]
  },
  {
   "cell_type": "code",
   "execution_count": 61,
   "id": "035876f0",
   "metadata": {},
   "outputs": [
    {
     "data": {
      "text/plain": [
       "array([[1, 4],\n",
       "       [4, 9]])"
      ]
     },
     "execution_count": 61,
     "metadata": {},
     "output_type": "execute_result"
    }
   ],
   "source": [
    "listoflists1 = [[1,2],[2,3]]\n",
    "listoflists2 = [[1,2],[2,3]]\n",
    "no.array(listoflists1)*no.array(listoflists2)"
   ]
  },
  {
   "cell_type": "markdown",
   "id": "20acbfe7",
   "metadata": {},
   "source": [
    "## Random"
   ]
  },
  {
   "cell_type": "code",
   "execution_count": 1,
   "id": "281ba628",
   "metadata": {},
   "outputs": [],
   "source": [
    "import numpy as np"
   ]
  },
  {
   "cell_type": "code",
   "execution_count": 11,
   "id": "37afe170",
   "metadata": {
    "scrolled": true
   },
   "outputs": [
    {
     "data": {
      "text/plain": [
       "array([3, 2, 3])"
      ]
     },
     "execution_count": 11,
     "metadata": {},
     "output_type": "execute_result"
    }
   ],
   "source": [
    "np.random.randint([1,2,3],4) # prodces a 3x1 array with different min values but same maximum value"
   ]
  },
  {
   "cell_type": "code",
   "execution_count": 16,
   "id": "b0e3f603",
   "metadata": {},
   "outputs": [
    {
     "data": {
      "text/plain": [
       "array([3, 2, 2])"
      ]
     },
     "execution_count": 16,
     "metadata": {},
     "output_type": "execute_result"
    }
   ],
   "source": [
    "np.random.randint(2,[4,5,3]) # prodces a 3x1 array with different max values but same min value"
   ]
  },
  {
   "cell_type": "code",
   "execution_count": 12,
   "id": "c30d5138",
   "metadata": {},
   "outputs": [
    {
     "data": {
      "text/plain": [
       "array([3, 4, 5])"
      ]
     },
     "execution_count": 12,
     "metadata": {},
     "output_type": "execute_result"
    }
   ],
   "source": [
    "np.random.randint([1,2,3],[4,5,6]) # prodces a 3x1 array with different min values and max values"
   ]
  },
  {
   "cell_type": "code",
   "execution_count": 17,
   "id": "1c00b318",
   "metadata": {},
   "outputs": [
    {
     "data": {
      "text/plain": [
       "array([[2, 1, 1, 2],\n",
       "       [1, 2, 1, 1],\n",
       "       [2, 2, 1, 2]])"
      ]
     },
     "execution_count": 17,
     "metadata": {},
     "output_type": "execute_result"
    }
   ],
   "source": [
    "np.random.randint(1,3,size = (3,4))"
   ]
  },
  {
   "cell_type": "markdown",
   "id": "81f32dae",
   "metadata": {},
   "source": [
    "## Pandas"
   ]
  },
  {
   "cell_type": "code",
   "execution_count": 19,
   "id": "034b03d8",
   "metadata": {},
   "outputs": [],
   "source": [
    "import pandas as pd"
   ]
  },
  {
   "cell_type": "code",
   "execution_count": 20,
   "id": "08bc9afc",
   "metadata": {},
   "outputs": [
    {
     "data": {
      "text/plain": [
       "1    Hello\n",
       "2       Hi\n",
       "3      Hey\n",
       "4      bro\n",
       "dtype: object"
      ]
     },
     "execution_count": 20,
     "metadata": {},
     "output_type": "execute_result"
    }
   ],
   "source": [
    "pd.Series(\"Hello Hi Hey bro\".split(), \"1 2 3 4 \".split())"
   ]
  },
  {
   "cell_type": "code",
   "execution_count": null,
   "id": "2470144c",
   "metadata": {},
   "outputs": [],
   "source": []
  }
 ],
 "metadata": {
  "kernelspec": {
   "display_name": "Python 3 (ipykernel)",
   "language": "python",
   "name": "python3"
  },
  "language_info": {
   "codemirror_mode": {
    "name": "ipython",
    "version": 3
   },
   "file_extension": ".py",
   "mimetype": "text/x-python",
   "name": "python",
   "nbconvert_exporter": "python",
   "pygments_lexer": "ipython3",
   "version": "3.9.12"
  }
 },
 "nbformat": 4,
 "nbformat_minor": 5
}
